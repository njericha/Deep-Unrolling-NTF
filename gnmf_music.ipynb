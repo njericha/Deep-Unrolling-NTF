{
 "cells": [
  {
   "cell_type": "code",
   "execution_count": null,
   "metadata": {},
   "outputs": [],
   "source": [
    "using Einsum\n",
    "using Random\n",
    "using LinearAlgebra"
   ]
  },
  {
   "cell_type": "code",
   "execution_count": null,
   "metadata": {},
   "outputs": [],
   "source": [
    "function ×₃(T::Array{Float64, 3}, v::Vector{Float64})\n",
    "    @einsum M[i,j] := T[i,j,k]*v[k] #contract the 3rd index of a tensor with a vector\n",
    "    return M\n",
    "end\n",
    "\n",
    "function mu_gnmf(X, T; maxiter=800, tol=5e-4, λ=0, ϵ=1e-8) #multipicative updated nonnegative matrix factorization\n",
    "    #using LinearAlgebra\n",
    "    \n",
    "    # Initilization\n",
    "    m, n = size(X)\n",
    "    r, N, p = size(T)\n",
    "    @assert n==N \"Missmatch between the second dimention of X and T\"\n",
    "    A = abs.(randn((m, r)))\n",
    "    b = abs.(randn((p,)))\n",
    "    i = 0\n",
    "\n",
    "    # Updates\n",
    "    while (norm(X - A*(T×₃b))/norm(X) > tol) && (i < maxiter)\n",
    "        i += 1\n",
    "        @show i\n",
    "        #@einsum b[q] = b[q] * T[u,v,q]*A[w,u]*X[w,v] / (T[i,j,q]*A[l,i]*A[l,s]*T[s,j,t]*b[t] + ϵ + λ*b[q]) #(W'*V ) ./ (W'*W*H  .+ ϵ + λ.*H) #update b\n",
    "        #b_old = b\n",
    "        for q ∈ 1:p\n",
    "            TT = T[:,:,q]\n",
    "            b[q] *= tr(TT'*A'*X) / (tr(TT'*A'*A*(T×₃b)) + ϵ + λ*b[q]) #can replace b with b_old?\n",
    "        end\n",
    "        B = (T×₃b)\n",
    "        A .*= (X *B') ./ (A *B*B' .+ ϵ + λ.*A) #update A\n",
    "    end\n",
    "\n",
    "    return (A, b, i)\n",
    "end\n",
    "#Random.seed!(314)\n",
    "m,n,r,p = (100,100,10,5)\n",
    "A = abs.(randn((m, r)))\n",
    "b = abs.(randn((p,)))\n",
    "T = abs.(randn((r,n,p)))\n",
    "T[T.>=1] .= 1\n",
    "T[T.< 1] .= 0\n",
    "X = A*(T×₃b)\n",
    "(AA, bb, i) = mu_gnmf(X, T)"
   ]
  }
 ],
 "metadata": {
  "kernelspec": {
   "display_name": "Julia 1.8.5",
   "language": "julia",
   "name": "julia-1.8"
  },
  "language_info": {
   "file_extension": ".jl",
   "mimetype": "application/julia",
   "name": "julia",
   "version": "1.8.5"
  },
  "orig_nbformat": 4
 },
 "nbformat": 4,
 "nbformat_minor": 2
}
