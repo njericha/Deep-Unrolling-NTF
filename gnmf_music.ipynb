{
 "cells": [
  {
   "cell_type": "code",
   "execution_count": null,
   "metadata": {},
   "outputs": [],
   "source": [
    "using Einsum\n",
    "using Random\n",
    "using LinearAlgebra"
   ]
  },
  {
   "cell_type": "code",
   "execution_count": null,
   "metadata": {},
   "outputs": [],
   "source": [
    "function ×₃(T::Array{Float64, 3}, v::Vector{Float64})\n",
    "    @einsum M[i,j] := T[i,j,k]*v[k] #contract the 3rd index of a tensor with a vector\n",
    "    return M\n",
    "end"
   ]
  },
  {
   "cell_type": "code",
   "execution_count": null,
   "metadata": {},
   "outputs": [],
   "source": [
    "function mu_gnmf(X, T; maxiter=800, tol=5e-4, λ=0, ϵ=1e-8) #multipicative updated nonnegative matrix factorization\n",
    "    #using LinearAlgebra\n",
    "    \n",
    "    # Initilization\n",
    "    m, n = size(X)\n",
    "    r, N, p = size(T)\n",
    "    @assert n==N \"Missmatch between the second dimention of X and T\"\n",
    "    A = abs.(randn((m, r)))\n",
    "    b = abs.(randn((p,)))\n",
    "    i = 0\n",
    "\n",
    "    # Updates\n",
    "    while (norm(X - A*(T×₃b))/norm(X) > tol) && (i < maxiter)\n",
    "        i += 1\n",
    "        @show i\n",
    "        #@einsum b[q] = b[q] * T[u,v,q]*A[w,u]*X[w,v] / (T[i,j,q]*A[l,i]*A[l,s]*T[s,j,t]*b[t] + ϵ + λ*b[q]) #(W'*V ) ./ (W'*W*H  .+ ϵ + λ.*H) #update b\n",
    "        #b_old = b\n",
    "        for q ∈ 1:p\n",
    "            TT = T[:,:,q]\n",
    "            b[q] *= tr(TT'*A'*X) / (tr(TT'*A'*A*(T×₃b)) + ϵ + λ*b[q]) #can replace b with b_old?\n",
    "        end\n",
    "        B = (T×₃b)\n",
    "        A .*= (X *B') ./ (A *B*B' .+ ϵ + λ.*A) #update A\n",
    "    end\n",
    "\n",
    "    return (A, b, i)\n",
    "end"
   ]
  },
  {
   "cell_type": "code",
   "execution_count": null,
   "metadata": {},
   "outputs": [],
   "source": [
    "function envelope(t, delay)\n",
    "    ϵ = 0#1e-4 #prevent divide by zero errors\n",
    "    a = @. exp(-(t - delay)) * (t .>= delay)\n",
    "    return @. a + (ϵ * (t < delay))\n",
    "end"
   ]
  },
  {
   "cell_type": "code",
   "execution_count": null,
   "metadata": {},
   "outputs": [],
   "source": [
    "#S = 10   # of time-shifts\n",
    "J = 2316 # of frequencies\n",
    "K = 2    # of sources\n",
    "L = 88   # of pitches\n",
    "N = 10   # of harmonics\n",
    "#i = 1:S\n",
    "j = 1:J\n",
    "l = 1:L\n",
    "n = 1:N"
   ]
  },
  {
   "cell_type": "code",
   "execution_count": null,
   "metadata": {},
   "outputs": [],
   "source": [
    "# STFT Parameters\n",
    "w = 250         # window width\n",
    "hop = w÷2 - 1   # number of samples to hop over\n",
    "window = hann(w)\n",
    "N = sample_rate÷2\n",
    "T = maximum(t)\n",
    "\n",
    "# Notes to be played, major triad has ratio 2:3:5\n",
    "notes = [100, 150, 250] #Hz\n",
    "\n",
    "# Matrix Sizes\n",
    "m, n = size(stft(t, window, hop))\n",
    "r = length(notes)\n",
    "freqs = range(0, N, m)\n",
    "times = range(0, T, n)"
   ]
  },
  {
   "cell_type": "code",
   "execution_count": null,
   "metadata": {},
   "outputs": [],
   "source": [
    "h = n #multiple of the fundimental for the n'th harmonic\n",
    "f = @. 440*2^((l-49)/12) #pitch of the l'th piano note\n",
    "ν = @. 440*2^((j-961)/240) #frequency j for the typical range of human hearing\n",
    "b1 = @. 1/n\n",
    "b2 = @. 1/n^2"
   ]
  },
  {
   "cell_type": "code",
   "execution_count": null,
   "metadata": {},
   "outputs": [],
   "source": [
    "function close_in_cents(f,g;tol=5) #within tol cents\n",
    "\t#f_cents = 1200*log2(f/440)\n",
    "\t#g_cents = 1200*log2(g/440)\n",
    "\t#return abs(f_cents - g_cents) < tol\n",
    "\treturn 1200*abs(log2(f/g)) < tol #1200 cents per octave (power of 2)\n",
    "end\n",
    "\n",
    "@einsum D[l,j,n] := close_in_cents(h[n]*f[l], ν[j])"
   ]
  },
  {
   "cell_type": "code",
   "execution_count": null,
   "metadata": {},
   "outputs": [],
   "source": [
    "Random.seed!(314)\n",
    "delays = [rand()*(T-0.5) for _ ∈ notes]\n",
    "y = arp_chord(t,notes,delays)\n",
    "Y = abs.(stft(y, window, hop))\n",
    "Xs = [abs.(stft(make_note(t,note,delay=delay), window, hop)) for (note,delay) ∈ zip(notes,delays)]"
   ]
  },
  {
   "cell_type": "code",
   "execution_count": null,
   "metadata": {},
   "outputs": [],
   "source": [
    "\n",
    "m,n,r,p = (100,100,10,5)\n",
    "A = abs.(randn((m, r)))\n",
    "b = abs.(randn((p,)))\n",
    "T = abs.(randn((r,n,p)))\n",
    "T[T.>=1] .= 1\n",
    "T[T.< 1] .= 0\n",
    "X = A*(T×₃b)\n",
    "(AA, bb, i) = mu_gnmf(X, T)"
   ]
  }
 ],
 "metadata": {
  "kernelspec": {
   "display_name": "Julia 1.8.5",
   "language": "julia",
   "name": "julia-1.8"
  },
  "language_info": {
   "file_extension": ".jl",
   "mimetype": "application/julia",
   "name": "julia",
   "version": "1.8.5"
  },
  "orig_nbformat": 4
 },
 "nbformat": 4,
 "nbformat_minor": 2
}
