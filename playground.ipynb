{
 "cells": [
  {
   "cell_type": "code",
   "execution_count": 1,
   "metadata": {},
   "outputs": [
    {
     "name": "stderr",
     "output_type": "stream",
     "text": [
      "WARNING: method definition for OneHotArray at C:\\Users\\Nicholas\\.julia\\packages\\MicroCollections\\yJPLe\\src\\onehot.jl:79 declares type variable N but does not use it.\n"
     ]
    }
   ],
   "source": [
    "using Flux"
   ]
  },
  {
   "cell_type": "code",
   "execution_count": 2,
   "metadata": {},
   "outputs": [],
   "source": [
    "using Random"
   ]
  },
  {
   "cell_type": "code",
   "execution_count": 7,
   "metadata": {},
   "outputs": [
    {
     "data": {
      "text/plain": [
       "10-element Vector{Int64}:\n",
       "  1\n",
       "  2\n",
       "  3\n",
       "  4\n",
       "  5\n",
       "  6\n",
       "  7\n",
       "  8\n",
       "  9\n",
       " 10"
      ]
     },
     "metadata": {},
     "output_type": "display_data"
    }
   ],
   "source": [
    "collect(1:10)"
   ]
  },
  {
   "cell_type": "code",
   "execution_count": null,
   "metadata": {},
   "outputs": [],
   "source": [
    "# Generate dataset of NN matricies W and H and their product V\n",
    "#set seed\n",
    "seed!(314)\n",
    "\n",
    "# V ∈ R^(m × n), and r is the (low) rank of V\n",
    "m, n = 15, 15\n",
    "r = 5\n",
    "true_W = abs.(randn((m, r)))\n",
    "\n",
    "train_set_size = 5\n",
    "test_set_size  = 1\n",
    "\n",
    "train_H, train_V = collect(1:train_set_size), collect(1:train_set_size) #TODO optimize later\n",
    "test_H,  test_V  = collect(1:test_set_size),  collect(1:test_set_size)  #optimize later\n",
    "\n",
    "for i ∈ 1:train_set_size\n",
    "    H = abs.(randn((r, n)))\n",
    "    V = true_W*H\n",
    "    # save H and V into a data set\n",
    "    train_H[i] = H\n",
    "    train_V[i] = V\n",
    "end\n",
    "\n",
    "for i ∈ 1:test_set_size\n",
    "    H = abs.(randn((r, n)))\n",
    "    V = true_W*H\n",
    "    # save H and V into a data set\n",
    "    test_H[i] = H\n",
    "    test_V[i] = V\n",
    "end\n",
    "\n",
    "# LATER can add small noise"
   ]
  },
  {
   "cell_type": "code",
   "execution_count": null,
   "metadata": {},
   "outputs": [],
   "source": [
    "# Define the model (copied from https://fluxml.ai/Flux.jl/stable/models/advanced/)\n",
    "struct MyModel\n",
    "    chain::Chain\n",
    "end\n",
    "  \n",
    "function (m::MyModel)(x)\n",
    "    # Arbitrary code can go here, but note that everything will be differentiated.\n",
    "    # Zygote does not allow some operations, like mutating arrays.\n",
    "    return m.chain(x)\n",
    "end\n",
    "  \n",
    "# Call @functor to allow for training. Described below in more detail.\n",
    "Flux.@functor MyModel\n",
    "\n",
    "update_H(H) = H .* (W'*V) ./ (W'*W*H) # can add regularization later\n",
    "# make W the trainable parameters\n",
    "# start with some random (but fixed for all inputs?) guess for here\n",
    "# note the model will take the form:\n",
    "h_guess = model(V_input)"
   ]
  },
  {
   "cell_type": "code",
   "execution_count": 8,
   "metadata": {},
   "outputs": [
    {
     "data": {
      "text/plain": [
       "1"
      ]
     },
     "metadata": {},
     "output_type": "display_data"
    }
   ],
   "source": [
    "[1,2,3][1]"
   ]
  },
  {
   "cell_type": "code",
   "execution_count": null,
   "metadata": {},
   "outputs": [],
   "source": [
    "# or could define it like this?\n",
    "struct MyLayer\n",
    "    W\n",
    "end\n",
    "\n",
    "function MyLayer((m,r)::Pair{<:Integer, <:Integer})\n",
    "    W = abs.randn(m,r) # TODO adjust initialization\n",
    "    MyLayer(W)\n",
    "end\n",
    "\n",
    "function (a::MyLayer)(H, V)\n",
    "    W = a.W\n",
    "    return (H .* (W'*V) ./ (W'*W*H), V) #one update step\n",
    "    # TODO can add regularization later\n",
    "end\n",
    "\n",
    "@functor MyLayer\n",
    "\n",
    "struct MyModel\n",
    "    chain::Chain\n",
    "end\n",
    "  \n",
    "function (m::MyModel)(V, H_guess=ones(r,n))\n",
    "    H_out, V_out = m.chain(H_guess, V)\n",
    "    return H_out #just care about the first entry\n",
    "end\n",
    "  \n",
    "# Call @functor to allow for training. Described below in more detail.\n",
    "@functor MyModel\n",
    "\n",
    "my_layer = MyLayer(m,r)\n",
    "chain = Chain(my_layer, my_layer, my_layer) #three layer network, each layer shares parameters\n",
    "model(V) = MyModel(chain)"
   ]
  },
  {
   "cell_type": "code",
   "execution_count": null,
   "metadata": {},
   "outputs": [],
   "source": [
    "# Train the model"
   ]
  },
  {
   "cell_type": "code",
   "execution_count": null,
   "metadata": {},
   "outputs": [],
   "source": [
    "# Evaluate the model performance on the training and testing set"
   ]
  },
  {
   "cell_type": "code",
   "execution_count": null,
   "metadata": {},
   "outputs": [],
   "source": [
    "# Observe how close the learned weights ̂W and the true W are"
   ]
  }
 ],
 "metadata": {
  "kernelspec": {
   "display_name": "Julia 1.8.5",
   "language": "julia",
   "name": "julia-1.8"
  },
  "language_info": {
   "file_extension": ".jl",
   "mimetype": "application/julia",
   "name": "julia",
   "version": "1.8.5"
  },
  "orig_nbformat": 4
 },
 "nbformat": 4,
 "nbformat_minor": 2
}
